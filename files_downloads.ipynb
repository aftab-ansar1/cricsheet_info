{
 "cells": [
  {
   "cell_type": "code",
   "execution_count": 2,
   "metadata": {},
   "outputs": [],
   "source": [
    "from selenium import webdriver\n",
    "from selenium.webdriver.common.by import By\n",
    "import time\n",
    "import zipfile\n"
   ]
  },
  {
   "cell_type": "code",
   "execution_count": 3,
   "metadata": {},
   "outputs": [],
   "source": [
    "driver = webdriver.Edge()\n",
    "url = 'https://cricsheet.org/matches/'\n",
    "driver.get(url)\n"
   ]
  },
  {
   "cell_type": "code",
   "execution_count": 4,
   "metadata": {},
   "outputs": [],
   "source": [
    "#download test match file\n",
    "driver.find_element(By.CSS_SELECTOR,\"a[href = '/downloads/tests_json.zip']\").click()\n",
    "time.sleep(10)\n",
    "\n",
    "#download odi files\n",
    "driver.find_element(By.CSS_SELECTOR,\"a[href = '/downloads/odis_json.zip']\").click()\n",
    "time.sleep(10)\n",
    "\n",
    "#download IT20 file\n",
    "driver.find_element(By.CSS_SELECTOR,\"a[href = '/downloads/it20s_json.zip']\").click()\n",
    "time.sleep(10)\n"
   ]
  },
  {
   "cell_type": "code",
   "execution_count": 6,
   "metadata": {},
   "outputs": [],
   "source": [
    "def unzip_to_dir(zip_file_path, extract_dir):\n",
    "    \"\"\"Unzips a zip file to the specified directory.\"\"\"\n",
    "\n",
    "    with zipfile.ZipFile(zip_file_path, 'r') as zip_ref:\n",
    "        zip_ref.extractall(extract_dir)\n",
    "\n",
    "# Example usage\n",
    "test_file_path = \"C:\\\\Users\\\\com2a\\\\Downloads\\\\tests_json.zip\"\n",
    "it20_file_path = \"C:\\\\Users\\\\com2a\\\\Downloads\\\\it20s_json.zip\"\n",
    "odi_file_path = \"C:\\\\Users\\\\com2a\\\\Downloads\\\\odis_json.zip\"\n",
    "odi_extract_dir = \"D:\\\\GUVI\\\\visual studio\\\\cric\\\\cric_unzip_files\\\\odi_matches\"\n",
    "test_extract_dir = \"D:\\\\GUVI\\\\visual studio\\\\cric\\\\cric_unzip_files\\\\test_matches\"\n",
    "it20_extract_dir = \"D:\\\\GUVI\\\\visual studio\\\\cric\\\\cric_unzip_files\\\\t20_matches\"\n",
    "\n",
    "unzip_to_dir(test_file_path, test_extract_dir)\n",
    "unzip_to_dir(it20_file_path, it20_extract_dir)\n",
    "unzip_to_dir(odi_file_path, odi_extract_dir)"
   ]
  }
 ],
 "metadata": {
  "kernelspec": {
   "display_name": "Python 3",
   "language": "python",
   "name": "python3"
  },
  "language_info": {
   "codemirror_mode": {
    "name": "ipython",
    "version": 3
   },
   "file_extension": ".py",
   "mimetype": "text/x-python",
   "name": "python",
   "nbconvert_exporter": "python",
   "pygments_lexer": "ipython3",
   "version": "3.12.5"
  }
 },
 "nbformat": 4,
 "nbformat_minor": 2
}
